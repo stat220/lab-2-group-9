{
  "nbformat": 4,
  "nbformat_minor": 0,
  "metadata": {
    "colab": {
      "provenance": []
    },
    "kernelspec": {
      "name": "python3",
      "display_name": "Python 3"
    },
    "language_info": {
      "name": "python"
    }
  },
  "cells": [
    {
      "cell_type": "code",
      "execution_count": 22,
      "metadata": {
        "colab": {
          "base_uri": "https://localhost:8080/"
        },
        "id": "IOe3RHU77-41",
        "outputId": "618cd61d-9cae-49c2-98f7-22e70fce52fd"
      },
      "outputs": [
        {
          "output_type": "stream",
          "name": "stdout",
          "text": [
            "When rolling 1d20 the probability of rolling at least a(n) 17 is 20.0%\n",
            "When rolling 3d4 the probability of rolling at least a(n) 10 is 15.625%\n",
            "When rolling 4d6 the probability of rolling at least a(n) 6 is 51.7746913580247%\n"
          ]
        },
        {
          "output_type": "execute_result",
          "data": {
            "text/plain": [
              "0.5177469135802469"
            ]
          },
          "metadata": {},
          "execution_count": 22
        }
      ],
      "source": [
        "import itertools\n",
        "import pandas as pd\n",
        "import numpy as np\n",
        "\n",
        "def roll_dice_sum(num_dice, num_sides, target_sum):\n",
        "  rolls = list(itertools.product(range(1,num_sides+1), repeat=num_dice))\n",
        "  sums = np.array([sum(roll) for roll in rolls])\n",
        "  prob_higher = np.mean(sums >= target_sum)\n",
        "  print(f\"When rolling {num_dice}d{num_sides} the probability of rolling at least a(n) {target_sum} is {prob_higher*100}%\")\n",
        "  return prob_higher\n",
        "\n",
        "def roll_dice_ge(num_dice, num_sides, target_number):\n",
        "  rolls = list(itertools.product(range(1,num_sides+1), repeat =num_dice))\n",
        "  num_possible = len(rolls)\n",
        "  num_success = sum(1 for roll in rolls if max(roll) >= target_number)\n",
        "  prob_success = num_success/num_possible\n",
        "  print(f\"When rolling {num_dice}d{num_sides} the probability of rolling at least a(n) {target_number} is {prob_success*100}%\")\n",
        "  return prob_success\n",
        "\n",
        "roll_dice_sum(1, 20, 17)\n",
        "roll_dice_sum(3, 4, 10)\n",
        "roll_dice_ge(4, 6, 6)\n"
      ]
    }
  ]
}