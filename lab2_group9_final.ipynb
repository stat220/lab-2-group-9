{
  "cells": [
    {
      "cell_type": "markdown",
      "metadata": {
        "id": "JZKMVJXbL-9l"
      },
      "source": [
        "# Imports"
      ]
    },
    {
      "cell_type": "code",
      "execution_count": 1,
      "metadata": {
        "id": "IOe3RHU77-41"
      },
      "outputs": [],
      "source": [
        "import itertools\n",
        "import pandas as pd\n",
        "import numpy as np"
      ]
    },
    {
      "cell_type": "markdown",
      "metadata": {
        "id": "_98aDgj1L-9p"
      },
      "source": [
        "# Functions\n",
        "\n",
        "Here, we lay out the functions used for determining:\n",
        "\n",
        "a) the probability of getting at least a certain sum with x n-side dice and\n",
        "\n",
        "b) the probability of one of the x n-side dice rolled being at least a certain number."
      ]
    },
    {
      "cell_type": "markdown",
      "metadata": {
        "id": "ZamQFdTDL-9p"
      },
      "source": [
        "The following function determines the probability of getting at least a certain sum given a number of dice and the number of sides each die has.\n",
        "\n",
        "It does so by calculating the sum of each possible roll and determining the portion of possible rolls where the sum is greater than or equal to the target. This portion is the probability."
      ]
    },
    {
      "cell_type": "code",
      "execution_count": 2,
      "metadata": {
        "id": "lGJvfMIzL-9q"
      },
      "outputs": [],
      "source": [
        "def roll_dice_sum(num_dice, num_sides, target_sum):\n",
        "  rolls = list(itertools.product(range(1,num_sides+1), repeat=num_dice)) # Get all roll permutations\n",
        "  sums = np.array([sum(roll) for roll in rolls]) # Get the sum of each roll permutation\n",
        "  prob_higher = np.mean(sums >= target_sum) # Get the portion of rolls where the sum is equal to or greater than the target\n",
        "  print(f\"When rolling {num_dice}d{num_sides}, the probability of rolling at least a total of {target_sum} is {prob_higher*100:.2f}%\")\n",
        "  # return prob_higher"
      ]
    },
    {
      "cell_type": "markdown",
      "metadata": {
        "id": "4kf0j7nOL-9q"
      },
      "source": [
        "The following function determines the probability of getting at least a certain number on any rolled die given a number of dice and the number of sides each die has.\n",
        "\n",
        "It does so by calculating the maximum die in each possible roll and determining the portion of possible rolls where that maximum is greater than or equal to the target. This portion is the probability."
      ]
    },
    {
      "cell_type": "code",
      "execution_count": 3,
      "metadata": {
        "id": "0jLJbhPrL-9q"
      },
      "outputs": [],
      "source": [
        "def roll_dice_ge(num_dice, num_sides, target_number):\n",
        "  rolls = list(itertools.product(range(1,num_sides+1), repeat =num_dice)) # Get all roll permutations\n",
        "  num_possible = len(rolls) # Get the total possible rolls\n",
        "  num_success = sum(1 for roll in rolls if max(roll) >= target_number) # Get the number of rolls where the maximum die rolled is greater than or equal to the target\n",
        "  prob_success = num_success/num_possible # Get the portion of total rolls where the target is met\n",
        "  print(f\"When rolling {num_dice}d{num_sides}, the probability of any die being at least a(n) {target_number} is {prob_success*100:.2f}%\")\n",
        "  # return prob_success"
      ]
    },
    {
      "cell_type": "markdown",
      "metadata": {
        "id": "SOyj20ZZL-9r"
      },
      "source": [
        "# Walkthrough\n",
        "\n",
        "These functions are very simple to use.\n",
        "\n",
        "For example, let's say you need to deal 20 damage to kill the demagorgon. If you would like to know how likely it would be to roll at least a total of 20 with 3 d12's, you can use the `roll_dice_sum` function as follows:"
      ]
    },
    {
      "cell_type": "code",
      "execution_count": 4,
      "metadata": {
        "colab": {
          "base_uri": "https://localhost:8080/"
        },
        "id": "KIRgj9p1L-9r",
        "outputId": "a5c0e415-c3f0-4bef-eb7c-dd91a1fe6100"
      },
      "outputs": [
        {
          "output_type": "stream",
          "name": "stdout",
          "text": [
            "When rolling 3d12, the probability of rolling at least a total of 20 is 50.00%\n"
          ]
        }
      ],
      "source": [
        "roll_dice_sum(3, 12, 20)"
      ]
    },
    {
      "cell_type": "markdown",
      "metadata": {
        "id": "dwr-W6w5L-9r"
      },
      "source": [
        "A 50/50 chance!\n",
        "\n",
        "Now let's say the demagorgon cast a protection spell that blocks all targeting effects where no dice rolls are higher than 8? What's the chance our attack does any damage? You can use the `roll_dice_ge` to find that out:"
      ]
    },
    {
      "cell_type": "code",
      "execution_count": 5,
      "metadata": {
        "colab": {
          "base_uri": "https://localhost:8080/"
        },
        "id": "SSaJDKlhL-9s",
        "outputId": "515dfb06-7a92-4bcb-ce8a-67ccb5f4091b"
      },
      "outputs": [
        {
          "output_type": "stream",
          "name": "stdout",
          "text": [
            "When rolling 3d12, the probability of any die being at least a(n) 8 is 80.15%\n"
          ]
        }
      ],
      "source": [
        "roll_dice_ge(3, 12, 8)"
      ]
    },
    {
      "cell_type": "markdown",
      "metadata": {
        "id": "M9wTru37L-9s"
      },
      "source": [
        "Those are good odds!\n",
        "\n",
        "Now let's put this to a real test. To succeed the next challenge, you must pass one of these 3 quests:\n",
        "- Get at least a 17 on a 1d20 roll\n",
        "- Get a total of at least 10 on a 3d4 roll\n",
        "- Get a 6 on any die in a 4d6 roll"
      ]
    },
    {
      "cell_type": "code",
      "execution_count": 6,
      "metadata": {
        "colab": {
          "base_uri": "https://localhost:8080/"
        },
        "id": "VaeyynICL-9s",
        "outputId": "21448b74-67d4-4ff4-e8b9-88cd764dff1a"
      },
      "outputs": [
        {
          "output_type": "stream",
          "name": "stdout",
          "text": [
            "When rolling 1d20, the probability of any die being at least a(n) 17 is 20.00%\n",
            "When rolling 3d4, the probability of rolling at least a total of 10 is 15.62%\n",
            "When rolling 4d6, the probability of any die being at least a(n) 6 is 51.77%\n"
          ]
        }
      ],
      "source": [
        "roll_dice_ge(1, 20, 17) # Option 1\n",
        "roll_dice_sum(3, 4, 10) # Option 2\n",
        "roll_dice_ge(4, 6, 6) # Option 3 (6 is the highest roll on a d6, so we don't need to worry about the greater than stuff)"
      ]
    },
    {
      "cell_type": "markdown",
      "metadata": {
        "id": "t2PKXzhlL-9s"
      },
      "source": [
        "Looks like taking the last option gives you the best chance of success!"
      ]
    },
    {
      "cell_type": "markdown",
      "source": [
        "# Conclusion\n",
        "In conclusion, the two probability functions presented offer a straightforward way to calculate the likelihood of achieving specific outcomes in dice rolls. By analyzing the sum or individual values of multiple dice, players can make informed decisions about their chances of success in various scenarios. These functions help quantify probabilities in role-playing games, allowing for strategic gameplay based on statistical insights."
      ],
      "metadata": {
        "id": "Vr4ByW9OMDrn"
      }
    }
  ],
  "metadata": {
    "colab": {
      "provenance": []
    },
    "kernelspec": {
      "display_name": "Python 3",
      "name": "python3"
    },
    "language_info": {
      "codemirror_mode": {
        "name": "ipython",
        "version": 3
      },
      "file_extension": ".py",
      "mimetype": "text/x-python",
      "name": "python",
      "nbconvert_exporter": "python",
      "pygments_lexer": "ipython3",
      "version": "3.11.5"
    }
  },
  "nbformat": 4,
  "nbformat_minor": 0
}