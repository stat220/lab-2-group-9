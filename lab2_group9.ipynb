{
  "cells": [
    {
      "cell_type": "markdown",
      "metadata": {},
      "source": [
        "# Imports"
      ]
    },
    {
      "cell_type": "code",
      "execution_count": 9,
      "metadata": {
        "colab": {
          "base_uri": "https://localhost:8080/"
        },
        "id": "IOe3RHU77-41",
        "outputId": "618cd61d-9cae-49c2-98f7-22e70fce52fd"
      },
      "outputs": [],
      "source": [
        "import itertools\n",
        "import pandas as pd\n",
        "import numpy as np"
      ]
    },
    {
      "cell_type": "markdown",
      "metadata": {},
      "source": [
        "# Functions\n",
        "\n",
        "Here, we lay out the functions used for determining:\n",
        "\n",
        "a) the probability of getting at least a certain sum with x n-side dice and\n",
        "\n",
        "b) the probability of one of the x n-side dice rolled being at least a certain number."
      ]
    },
    {
      "cell_type": "markdown",
      "metadata": {},
      "source": [
        "The following function determines the probability of getting at least a certain sum given a number of dice and the number of sides each die has.\n",
        "\n",
        "It does so by calculating the sum of each possible roll and determining the portion of possible rolls where the sum is greater than or equal to the target. This portion is the probability."
      ]
    },
    {
      "cell_type": "code",
      "execution_count": 10,
      "metadata": {},
      "outputs": [],
      "source": [
        "def roll_dice_sum(num_dice, num_sides, target_sum):\n",
        "  rolls = list(itertools.product(range(1,num_sides+1), repeat=num_dice)) # Get all roll permutations\n",
        "  sums = np.array([sum(roll) for roll in rolls]) # Get the sum of each roll permutation\n",
        "  prob_higher = np.mean(sums >= target_sum) # Get the portion of rolls where the sum is equal to or greater than the target\n",
        "  print(f\"When rolling {num_dice}d{num_sides}, the probability of rolling at least a total of {target_sum} is {prob_higher*100:.2f}%\")\n",
        "  # return prob_higher"
      ]
    },
    {
      "cell_type": "markdown",
      "metadata": {},
      "source": [
        "The following function determines the probability of getting at least a certain number on any rolled die given a number of dice and the number of sides each die has.\n",
        "\n",
        "It does so by calculating the maximum die in each possible roll and determining the portion of possible rolls where that maximum is greater than or equal to the target. This portion is the probability."
      ]
    },
    {
      "cell_type": "code",
      "execution_count": 11,
      "metadata": {},
      "outputs": [],
      "source": [
        "def roll_dice_ge(num_dice, num_sides, target_number):\n",
        "  rolls = list(itertools.product(range(1,num_sides+1), repeat =num_dice)) # Get all roll permutations\n",
        "  num_possible = len(rolls) # Get the total possible rolls\n",
        "  num_success = sum(1 for roll in rolls if max(roll) >= target_number) # Get the number of rolls where the maximum die rolled is greater than or equal to the target\n",
        "  prob_success = num_success/num_possible # Get the portion of total rolls where the target is met\n",
        "  print(f\"When rolling {num_dice}d{num_sides}, the probability of any die being at least a(n) {target_number} is {prob_success*100:.2f}%\")\n",
        "  # return prob_success"
      ]
    },
    {
      "cell_type": "markdown",
      "metadata": {},
      "source": [
        "# Walkthrough\n",
        "\n",
        "These functions are very simple to use.\n",
        "\n",
        "For example, let's say you need to deal 20 damage to kill the demagorgon. If you would like to know how likely it would be to roll at least a total of 20 with 3 d12's, you can use the `roll_dice_sum` function as follows:"
      ]
    },
    {
      "cell_type": "code",
      "execution_count": 12,
      "metadata": {},
      "outputs": [
        {
          "name": "stdout",
          "output_type": "stream",
          "text": [
            "When rolling 3d12, the probability of rolling at least a total of 20 is 50.00%\n"
          ]
        }
      ],
      "source": [
        "roll_dice_sum(3, 12, 20)"
      ]
    },
    {
      "cell_type": "markdown",
      "metadata": {},
      "source": [
        "A 50/50 chance!\n",
        "\n",
        "Now let's say the demagorgon cast a protection spell that blocks all targeting effects where no dice rolls are higher than 8? What's the chance our attack does any damage? You can use the `roll_dice_ge` to find that out:"
      ]
    },
    {
      "cell_type": "code",
      "execution_count": 13,
      "metadata": {},
      "outputs": [
        {
          "name": "stdout",
          "output_type": "stream",
          "text": [
            "When rolling 3d12, the probability of any die being at least a(n) 8 is 80.15%\n"
          ]
        }
      ],
      "source": [
        "roll_dice_ge(3, 12, 8)"
      ]
    },
    {
      "cell_type": "markdown",
      "metadata": {},
      "source": [
        "Those are good odds! Now you should be able to do some of this yourself. Happy rolling!"
      ]
    }
  ],
  "metadata": {
    "colab": {
      "provenance": []
    },
    "kernelspec": {
      "display_name": "Python 3",
      "name": "python3"
    },
    "language_info": {
      "codemirror_mode": {
        "name": "ipython",
        "version": 3
      },
      "file_extension": ".py",
      "mimetype": "text/x-python",
      "name": "python",
      "nbconvert_exporter": "python",
      "pygments_lexer": "ipython3",
      "version": "3.11.5"
    }
  },
  "nbformat": 4,
  "nbformat_minor": 0
}
